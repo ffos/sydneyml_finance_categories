{
 "cells": [
  {
   "cell_type": "markdown",
   "metadata": {},
   "source": [
    "# Prepare dataset\n",
    "Check for existence of \"`Dataset.csv`\"; if it exists, move on to training, else do the following.\n",
    "Read separate csv files from known CBA, Bendigo and ANZ exports. Then extract their \"description\" columns, and attach respective bank-identification labels. Then shuffle the dataset, and re-export it as \"`Dataset.csv`\"."
   ]
  },
  {
   "cell_type": "markdown",
   "metadata": {},
   "source": [
    "## All python imports and globals"
   ]
  },
  {
   "cell_type": "code",
   "execution_count": 1,
   "metadata": {
    "collapsed": true
   },
   "outputs": [],
   "source": [
    "%matplotlib inline\n",
    "import numpy as np\n",
    "import pandas as pd\n",
    "import datetime as dt\n",
    "import os.path\n",
    "import parseutils as pu\n",
    "\n",
    "DATA_FILE_CBA='../data/CBA.csv'\n",
    "DATA_FILE_BENDIGO='../data/Bendigo.csv'\n",
    "DATA_FILE_ANZ='../data/ANZ.csv'\n",
    "DATASET_FILE='../data/Dataset.csv'\n",
    "\n",
    "COL_NAME_DATE='Date'\n",
    "COL_NAME_AMOUNT='Amount'\n",
    "COL_NAME_DESC='Description'\n",
    "COL_NAME_BANK='Bank'\n",
    "\n",
    "CSV_TYPE_CBA='CBA'\n",
    "CSV_TYPE_BENDIGO='BENDIGO'\n",
    "CSV_TYPE_ANZ='ANZ'\n",
    "CSV_TYPE_UNKNOWN='UNKNOWN'\n"
   ]
  },
  {
   "cell_type": "markdown",
   "metadata": {},
   "source": [
    "Check if data-set file already exists"
   ]
  },
  {
   "cell_type": "markdown",
   "metadata": {},
   "source": [
    "## Utility function to build dataset"
   ]
  },
  {
   "cell_type": "markdown",
   "metadata": {},
   "source": [
    "Build the dataset combining all the raw data and normalizing column names, and adding label for identifying bank"
   ]
  },
  {
   "cell_type": "code",
   "execution_count": 2,
   "metadata": {
    "collapsed": true
   },
   "outputs": [],
   "source": [
    "def buildDataSet():\n",
    "    print \"Building dataset...\"\n",
    "    def loadRawFiles():\n",
    "        cba_raw=pd.read_csv(DATA_FILE_CBA, header=None)\n",
    "        bendigo_raw=pd.read_csv(DATA_FILE_BENDIGO, header=None)\n",
    "        anz_raw=pd.read_csv(DATA_FILE_ANZ, header=None)\n",
    "        return cba_raw, bendigo_raw, anz_raw\n",
    "\n",
    "    def addHeaders(df, columns,bankLabel):\n",
    "        df.columns=columns\n",
    "        df[COL_NAME_BANK]=bankLabel\n",
    "        return df\n",
    "    cba_raw, bendigo_raw, anz_raw = loadRawFiles()\n",
    "    \n",
    "    #add columns and label bank in a separate column\n",
    "    cba_raw = addHeaders(cba_raw,[COL_NAME_DATE, COL_NAME_AMOUNT, COL_NAME_DESC], CSV_TYPE_CBA)\n",
    "    bendigo_raw = addHeaders(bendigo_raw,[COL_NAME_DATE, COL_NAME_AMOUNT, COL_NAME_DESC], CSV_TYPE_BENDIGO)\n",
    "    anz_raw = addHeaders(anz_raw,[COL_NAME_DATE, COL_NAME_AMOUNT, COL_NAME_DESC], CSV_TYPE_ANZ)\n",
    "    #print (\"CBA\\n===\")\n",
    "    #print (cba_raw.head(2))\n",
    "    #print (\"\\n\\nBENDIGO\\n=======\")\n",
    "    #print (bendigo_raw.head(2))\n",
    "    #print (\"\\n\\nANZ\\n===\")\n",
    "    #print (anz_raw.head(2))\n",
    "    \n",
    "    #combine all the resulting data into a single dataframe, and shuffle them\n",
    "    return (pd.concat([cba_raw, bendigo_raw, anz_raw])).sample(frac=1)\n",
    "\n",
    "\n",
    "    "
   ]
  },
  {
   "cell_type": "markdown",
   "metadata": {},
   "source": [
    "## Build dataset if necessary\n"
   ]
  },
  {
   "cell_type": "code",
   "execution_count": 5,
   "metadata": {},
   "outputs": [
    {
     "name": "stdout",
     "output_type": "stream",
     "text": [
      "Dataset file ../data/Dataset.csv exists. \n",
      "Loading to pandas\n"
     ]
    }
   ],
   "source": [
    "DATASET_FILE_EXISTS = os.path.isfile(DATASET_FILE)\n",
    "dataset = None\n",
    "if DATASET_FILE_EXISTS:\n",
    "    print \"Dataset file %s exists. \\nLoading to pandas\" % (DATASET_FILE)\n",
    "    dataset = pd.read_csv(DATASET_FILE)\n",
    "else:\n",
    "    print \"Dataset file doesn't exist. Building it from raw files\"\n",
    "    dataset = buildDataSet()\n",
    "    print \"Dataset built...\"\n",
    "    print dataset.head(10)\n",
    "    print (\"Saving to file...%s\" % (DATASET_FILE)) \n",
    "    dataset.to_csv(DATASET_FILE, header=True, index=False)\n",
    "    print \"Saved: %s\" %(os.path.isfile(DATASET_FILE))\n"
   ]
  }
 ],
 "metadata": {
  "kernelspec": {
   "display_name": "Python 2",
   "language": "python",
   "name": "python2"
  },
  "language_info": {
   "codemirror_mode": {
    "name": "ipython",
    "version": 2
   },
   "file_extension": ".py",
   "mimetype": "text/x-python",
   "name": "python",
   "nbconvert_exporter": "python",
   "pygments_lexer": "ipython2",
   "version": "2.7.13"
  }
 },
 "nbformat": 4,
 "nbformat_minor": 1
}
