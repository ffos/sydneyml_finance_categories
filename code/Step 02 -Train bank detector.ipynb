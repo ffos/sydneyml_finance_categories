{
 "cells": [
  {
   "cell_type": "markdown",
   "metadata": {},
   "source": [
    "# Given a CSV, detect the bank it came from\n",
    "This uses \"`Dataset.csv`\" prepared in Step 01, and constructs a classifier which when given a statement description, detects the bank it came from."
   ]
  },
  {
   "cell_type": "markdown",
   "metadata": {},
   "source": [
    "## All python imports and globals"
   ]
  },
  {
   "cell_type": "code",
   "execution_count": 1,
   "metadata": {
    "collapsed": true
   },
   "outputs": [],
   "source": [
    "%matplotlib inline\n",
    "import numpy as np\n",
    "import pandas as pd\n",
    "from sklearn.feature_extraction.text import CountVectorizer\n",
    "from sklearn import preprocessing\n",
    "from sklearn.model_selection import train_test_split, cross_val_score\n",
    "from sklearn.naive_bayes import GaussianNB\n",
    "from sklearn.metrics import confusion_matrix\n",
    "import matplotlib.pyplot as plt\n",
    "import modelutils as mu\n",
    "\n",
    "\n",
    "\n",
    "DATASET_FILE='../data/Dataset.csv'\n",
    "\n",
    "COL_NAME_DATE='Date'\n",
    "COL_NAME_AMOUNT='Amount'\n",
    "COL_NAME_DESC='Description'\n",
    "COL_NAME_BANK='Bank'\n",
    "\n",
    "CSV_TYPE_CBA='CBA'\n",
    "CSV_TYPE_BENDIGO='BENDIGO'\n",
    "CSV_TYPE_ANZ='ANZ'\n",
    "CSV_TYPE_UNKNOWN='UNKNOWN'\n"
   ]
  },
  {
   "cell_type": "markdown",
   "metadata": {},
   "source": [
    "## Read dataset and vectorize\n",
    "Load the CSV, and encode the String labels for \"Bank\" (output) to number"
   ]
  },
  {
   "cell_type": "code",
   "execution_count": 2,
   "metadata": {},
   "outputs": [
    {
     "name": "stdout",
     "output_type": "stream",
     "text": [
      "         Date  Amount                                        Description  \\\n",
      "0  18/06/2017   -16.4  RETAIL PURCHASE WOLESLEY MGT PTY LTD, ULTIMO 1...   \n",
      "1    3/8/2017  -12.50  LEFT BOWER CAFE SUTHERLAND NS AUS Card xx7113 ...   \n",
      "2  27/09/2016    -0.3                      INTERNATIONAL TRANSACTION FEE   \n",
      "3  03/05/2016  -14.99  RETAIL PURCHASE-INTERNATIONAL ADOBE CREATIVE C...   \n",
      "4  05/01/2016   302.0       E-BANKING TRANSFER 0097574257 00247011611301   \n",
      "5  04/11/2016   -36.0  RETAIL PURCHASE GLEBE FAMILY MEDICAL, GLEBE 02...   \n",
      "6  26/05/2017   -4.00  SQ *WHITE HORSE COFFEE Sutherland NS AUS Card ...   \n",
      "7  02/08/2017  -242.0  RETAIL PURCHASE EVERTEC PTY LTD, LIDCOMBE 0108...   \n",
      "8  22/01/2017   -51.0  RETAIL PURCHASE Soul Burger - Glebe, Glebe 210...   \n",
      "9  28/05/2017   -87.5  RETAIL PURCHASE IAN THORPE AQUATIC, ULTIMO 260...   \n",
      "\n",
      "      Bank  EncodedBankLabels  \n",
      "0  BENDIGO                  1  \n",
      "1      CBA                  2  \n",
      "2  BENDIGO                  1  \n",
      "3  BENDIGO                  1  \n",
      "4  BENDIGO                  1  \n",
      "5  BENDIGO                  1  \n",
      "6      CBA                  2  \n",
      "7  BENDIGO                  1  \n",
      "8  BENDIGO                  1  \n",
      "9  BENDIGO                  1  \n",
      "Labels:  ['ANZ' 'BENDIGO' 'CBA']\n"
     ]
    }
   ],
   "source": [
    "rawdf = pd.read_csv(DATASET_FILE)\n",
    "bankLabelEncoder = preprocessing.LabelEncoder()\n",
    "rawdf['EncodedBankLabels'] = bankLabelEncoder.fit_transform(rawdf['Bank'])\n",
    "print rawdf.head(10)\n",
    "print \"Labels: \", bankLabelEncoder.classes_\n"
   ]
  },
  {
   "cell_type": "markdown",
   "metadata": {},
   "source": [
    "## Vectorize Description column"
   ]
  },
  {
   "cell_type": "code",
   "execution_count": 3,
   "metadata": {},
   "outputs": [
    {
     "name": "stdout",
     "output_type": "stream",
     "text": [
      "[[0 0 0 ..., 0 0 0]\n",
      " [0 0 0 ..., 0 0 0]\n",
      " [0 0 0 ..., 0 0 0]\n",
      " ..., \n",
      " [0 0 0 ..., 0 0 0]\n",
      " [0 0 0 ..., 0 0 0]\n",
      " [0 0 0 ..., 0 0 0]]\n"
     ]
    }
   ],
   "source": [
    "vectorizer = CountVectorizer()\n",
    "descriptions = vectorizer.fit_transform(rawdf['Description']).todense()\n",
    "\n",
    "print descriptions"
   ]
  },
  {
   "cell_type": "code",
   "execution_count": 4,
   "metadata": {},
   "outputs": [
    {
     "data": {
      "text/plain": [
       "<1x3903 sparse matrix of type '<type 'numpy.int64'>'\n",
       "\twith 1 stored elements in Compressed Sparse Row format>"
      ]
     },
     "execution_count": 4,
     "metadata": {},
     "output_type": "execute_result"
    }
   ],
   "source": [
    "# the vectorizer can now be used to transform unseen text\n",
    "vectorizer.transform([\"new text\"])"
   ]
  },
  {
   "cell_type": "markdown",
   "metadata": {},
   "source": [
    "## Split dataset into train and test\n"
   ]
  },
  {
   "cell_type": "code",
   "execution_count": 5,
   "metadata": {},
   "outputs": [
    {
     "name": "stdout",
     "output_type": "stream",
     "text": [
      "Sample split: \n",
      "[[0 0 0 ..., 0 0 0]\n",
      " [0 0 0 ..., 0 0 0]\n",
      " [0 0 0 ..., 0 0 0]\n",
      " ..., \n",
      " [0 0 0 ..., 0 0 0]\n",
      " [0 0 0 ..., 0 0 0]\n",
      " [0 0 0 ..., 0 0 0]] \n",
      "[1 1 1 1 1 0 1 2 1 2]\n"
     ]
    }
   ],
   "source": [
    "x_train, x_test, y_train, y_test = train_test_split(descriptions,\n",
    "                                                    rawdf['EncodedBankLabels'].as_matrix())\n",
    "\n",
    "print \"Sample split: \\n\", x_train[:10],\"\\n\", y_train[:10]"
   ]
  },
  {
   "cell_type": "markdown",
   "metadata": {},
   "source": [
    "### Build Classifier"
   ]
  },
  {
   "cell_type": "code",
   "execution_count": 6,
   "metadata": {},
   "outputs": [
    {
     "name": "stdout",
     "output_type": "stream",
     "text": [
      "Mean score:  0.98797478434 \n",
      "[ 0.99090909  0.98363636  0.98905109  0.98722628  0.98905109]\n"
     ]
    }
   ],
   "source": [
    "clf =  GaussianNB()\n",
    "fitted = clf.fit(x_train, y_train)\n",
    "scores = cross_val_score(clf, x_train, y_train, cv=5)\n",
    "print \"Mean score: \", np.mean(scores), \"\\n\", scores"
   ]
  },
  {
   "cell_type": "markdown",
   "metadata": {},
   "source": [
    "## Show confusion matrix"
   ]
  },
  {
   "cell_type": "code",
   "execution_count": 7,
   "metadata": {
    "collapsed": true
   },
   "outputs": [],
   "source": [
    "def displayConfusionMatrix(cmatrix):\n",
    "    print cmatrix\n",
    "    plt.matshow(cmatrix)\n",
    "    plt.title('Confusion matrix')\n",
    "    plt.colorbar()\n",
    "    plt.ylabel('True label')\n",
    "    plt.xlabel('Predicted label')\n",
    "    plt.show()"
   ]
  },
  {
   "cell_type": "code",
   "execution_count": 8,
   "metadata": {},
   "outputs": [
    {
     "name": "stdout",
     "output_type": "stream",
     "text": [
      "[[ 25   6   0]\n",
      " [  0 747   0]\n",
      " [  0   0 137]]\n"
     ]
    },
    {
     "data": {
      "image/png": "[encoded data removed]",
      "text/plain": [
       "<matplotlib.figure.Figure at 0x7fb9f4d01d90>"
      ]
     },
     "metadata": {},
     "output_type": "display_data"
    }
   ],
   "source": [
    "y_pred = clf.predict(x_test)\n",
    "confusion_matrix = confusion_matrix(y_test, y_pred)\n",
    "displayConfusionMatrix(confusion_matrix)\n",
    "\n",
    "\n"
   ]
  },
  {
   "cell_type": "markdown",
   "metadata": {},
   "source": [
    "The confusion matrix above shows that Bendigo and CBA can be accurately predicated (all true positives only), but ANZ can occassionally be classified incorrectly"
   ]
  },
  {
   "cell_type": "markdown",
   "metadata": {},
   "source": [
    "### Trying out a few samples manually"
   ]
  },
  {
   "cell_type": "code",
   "execution_count": 9,
   "metadata": {},
   "outputs": [
    {
     "name": "stdout",
     "output_type": "stream",
     "text": [
      "[[ 0.  1.  0.]\n",
      " [ 0.  0.  1.]\n",
      " [ 1.  0.  0.]]\n",
      "['BENDIGO' 'CBA' 'ANZ']\n"
     ]
    }
   ],
   "source": [
    "testTexts = [\n",
    "    \"SandwichesForSydneyML NORTH RYDE 3103 AUD000000005999\",\n",
    "    \"Some random merchant sydney Card xx1234 gibberish\",\n",
    "    \"Pay TPG internet Sydney\",\n",
    "            ]\n",
    "vector = vectorizer.transform(testTexts).todense()\n",
    "print clf.predict_proba(vector)\n",
    "print bankLabelEncoder.classes_[(clf.predict(vector))]"
   ]
  },
  {
   "cell_type": "markdown",
   "metadata": {},
   "source": [
    "## Save (pickle) the necessary components to re-use the classifier\n",
    "We will need to save both `vectorizer`, `bankLabelEncoder` and `clf`, since both will be required to classify unseen text, as seen in the example above, by using the same vectorizer to encode the input text to be fed into the classifier, and to interpret the output labels correctly"
   ]
  },
  {
   "cell_type": "code",
   "execution_count": 10,
   "metadata": {},
   "outputs": [
    {
     "data": {
      "text/plain": [
       "(True,\n",
       " 'Persisted files:  models/bank_detector_clf.pkl,   models/bank_detector_vectorizer.pkl, and   models/bank_detector_labelEncoder.pkl')"
      ]
     },
     "execution_count": 10,
     "metadata": {},
     "output_type": "execute_result"
    }
   ],
   "source": [
    "mu.saveBankDetectorModels(classifier=clf,vectorizer=vectorizer,labelEncoder=bankLabelEncoder)"
   ]
  }
 ],
 "metadata": {
  "kernelspec": {
   "display_name": "Python 2",
   "language": "python",
   "name": "python2"
  },
  "language_info": {
   "codemirror_mode": {
    "name": "ipython",
    "version": 2
   },
   "file_extension": ".py",
   "mimetype": "text/x-python",
   "name": "python",
   "nbconvert_exporter": "python",
   "pygments_lexer": "ipython2",
   "version": "2.7.13"
  }
 },
 "nbformat": 4,
 "nbformat_minor": 1
}
